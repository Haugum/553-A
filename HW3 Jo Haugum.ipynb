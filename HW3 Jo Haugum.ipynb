{
 "cells": [
  {
   "cell_type": "code",
   "execution_count": 450,
   "metadata": {
    "collapsed": true
   },
   "outputs": [],
   "source": [
    "from __future__ import print_function\n",
    "import os, subprocess\n",
    "from time import time\n",
    "from operator import itemgetter\n",
    "from scipy.stats import randint\n",
    "import pandas as pd\n",
    "import numpy as np\n",
    "from sklearn.tree import DecisionTreeClassifier\n",
    "from sklearn.tree import export_graphviz\n",
    "from sklearn.grid_search import GridSearchCV\n",
    "from sklearn.grid_search import RandomizedSearchCV\n",
    "from sklearn.cross_validation import  cross_val_score\n"
   ]
  },
  {
   "cell_type": "markdown",
   "metadata": {},
   "source": [
    "## Part 1\n",
    "\n",
    "First, we create an object containing the data in the Titanic.csv file"
   ]
  },
  {
   "cell_type": "code",
   "execution_count": 451,
   "metadata": {
    "collapsed": true
   },
   "outputs": [],
   "source": [
    "df = pd.read_csv('Titanic.csv', index_col=0, na_values=['NA'])"
   ]
  },
  {
   "cell_type": "markdown",
   "metadata": {},
   "source": [
    "Let's look at the data we loaded:"
   ]
  },
  {
   "cell_type": "code",
   "execution_count": 452,
   "metadata": {},
   "outputs": [
    {
     "data": {
      "text/html": [
       "<div>\n",
       "<style>\n",
       "    .dataframe thead tr:only-child th {\n",
       "        text-align: right;\n",
       "    }\n",
       "\n",
       "    .dataframe thead th {\n",
       "        text-align: left;\n",
       "    }\n",
       "\n",
       "    .dataframe tbody tr th {\n",
       "        vertical-align: top;\n",
       "    }\n",
       "</style>\n",
       "<table border=\"1\" class=\"dataframe\">\n",
       "  <thead>\n",
       "    <tr style=\"text-align: right;\">\n",
       "      <th></th>\n",
       "      <th>pclass</th>\n",
       "      <th>survived</th>\n",
       "      <th>name</th>\n",
       "      <th>sex</th>\n",
       "      <th>age</th>\n",
       "      <th>sibsp</th>\n",
       "      <th>parch</th>\n",
       "      <th>ticket</th>\n",
       "      <th>fare</th>\n",
       "      <th>cabin</th>\n",
       "      <th>embarked</th>\n",
       "      <th>boat</th>\n",
       "      <th>body</th>\n",
       "      <th>home.dest</th>\n",
       "    </tr>\n",
       "  </thead>\n",
       "  <tbody>\n",
       "    <tr>\n",
       "      <th>1</th>\n",
       "      <td>1st</td>\n",
       "      <td>1</td>\n",
       "      <td>Allen, Miss. Elisabeth Walton</td>\n",
       "      <td>female</td>\n",
       "      <td>29.0000</td>\n",
       "      <td>0</td>\n",
       "      <td>0</td>\n",
       "      <td>24160</td>\n",
       "      <td>211.337494</td>\n",
       "      <td>B5</td>\n",
       "      <td>Southampton</td>\n",
       "      <td>2</td>\n",
       "      <td>NaN</td>\n",
       "      <td>St Louis, MO</td>\n",
       "    </tr>\n",
       "    <tr>\n",
       "      <th>2</th>\n",
       "      <td>1st</td>\n",
       "      <td>1</td>\n",
       "      <td>Allison, Master. Hudson Trevor</td>\n",
       "      <td>male</td>\n",
       "      <td>0.9167</td>\n",
       "      <td>1</td>\n",
       "      <td>2</td>\n",
       "      <td>113781</td>\n",
       "      <td>151.550003</td>\n",
       "      <td>C22 C26</td>\n",
       "      <td>Southampton</td>\n",
       "      <td>11</td>\n",
       "      <td>NaN</td>\n",
       "      <td>Montreal, PQ / Chesterville, ON</td>\n",
       "    </tr>\n",
       "    <tr>\n",
       "      <th>3</th>\n",
       "      <td>1st</td>\n",
       "      <td>0</td>\n",
       "      <td>Allison, Miss. Helen Loraine</td>\n",
       "      <td>female</td>\n",
       "      <td>2.0000</td>\n",
       "      <td>1</td>\n",
       "      <td>2</td>\n",
       "      <td>113781</td>\n",
       "      <td>151.550003</td>\n",
       "      <td>C22 C26</td>\n",
       "      <td>Southampton</td>\n",
       "      <td>NaN</td>\n",
       "      <td>NaN</td>\n",
       "      <td>Montreal, PQ / Chesterville, ON</td>\n",
       "    </tr>\n",
       "    <tr>\n",
       "      <th>4</th>\n",
       "      <td>1st</td>\n",
       "      <td>0</td>\n",
       "      <td>Allison, Mr. Hudson Joshua Crei</td>\n",
       "      <td>male</td>\n",
       "      <td>30.0000</td>\n",
       "      <td>1</td>\n",
       "      <td>2</td>\n",
       "      <td>113781</td>\n",
       "      <td>151.550003</td>\n",
       "      <td>C22 C26</td>\n",
       "      <td>Southampton</td>\n",
       "      <td>NaN</td>\n",
       "      <td>135.0</td>\n",
       "      <td>Montreal, PQ / Chesterville, ON</td>\n",
       "    </tr>\n",
       "    <tr>\n",
       "      <th>5</th>\n",
       "      <td>1st</td>\n",
       "      <td>0</td>\n",
       "      <td>Allison, Mrs. Hudson J C (Bessi</td>\n",
       "      <td>female</td>\n",
       "      <td>25.0000</td>\n",
       "      <td>1</td>\n",
       "      <td>2</td>\n",
       "      <td>113781</td>\n",
       "      <td>151.550003</td>\n",
       "      <td>C22 C26</td>\n",
       "      <td>Southampton</td>\n",
       "      <td>NaN</td>\n",
       "      <td>NaN</td>\n",
       "      <td>Montreal, PQ / Chesterville, ON</td>\n",
       "    </tr>\n",
       "    <tr>\n",
       "      <th>6</th>\n",
       "      <td>1st</td>\n",
       "      <td>1</td>\n",
       "      <td>Anderson, Mr. Harry</td>\n",
       "      <td>male</td>\n",
       "      <td>48.0000</td>\n",
       "      <td>0</td>\n",
       "      <td>0</td>\n",
       "      <td>19952</td>\n",
       "      <td>26.549999</td>\n",
       "      <td>E12</td>\n",
       "      <td>Southampton</td>\n",
       "      <td>3</td>\n",
       "      <td>NaN</td>\n",
       "      <td>New York, NY</td>\n",
       "    </tr>\n",
       "    <tr>\n",
       "      <th>7</th>\n",
       "      <td>1st</td>\n",
       "      <td>1</td>\n",
       "      <td>Andrews, Miss. Kornelia Theodos</td>\n",
       "      <td>female</td>\n",
       "      <td>63.0000</td>\n",
       "      <td>1</td>\n",
       "      <td>0</td>\n",
       "      <td>13502</td>\n",
       "      <td>77.958298</td>\n",
       "      <td>D7</td>\n",
       "      <td>Southampton</td>\n",
       "      <td>10</td>\n",
       "      <td>NaN</td>\n",
       "      <td>Hudson, NY</td>\n",
       "    </tr>\n",
       "  </tbody>\n",
       "</table>\n",
       "</div>"
      ],
      "text/plain": [
       "  pclass  survived                             name     sex      age  sibsp  \\\n",
       "1    1st         1    Allen, Miss. Elisabeth Walton  female  29.0000      0   \n",
       "2    1st         1   Allison, Master. Hudson Trevor    male   0.9167      1   \n",
       "3    1st         0     Allison, Miss. Helen Loraine  female   2.0000      1   \n",
       "4    1st         0  Allison, Mr. Hudson Joshua Crei    male  30.0000      1   \n",
       "5    1st         0  Allison, Mrs. Hudson J C (Bessi  female  25.0000      1   \n",
       "6    1st         1              Anderson, Mr. Harry    male  48.0000      0   \n",
       "7    1st         1  Andrews, Miss. Kornelia Theodos  female  63.0000      1   \n",
       "\n",
       "   parch  ticket        fare    cabin     embarked boat   body  \\\n",
       "1      0   24160  211.337494       B5  Southampton    2    NaN   \n",
       "2      2  113781  151.550003  C22 C26  Southampton   11    NaN   \n",
       "3      2  113781  151.550003  C22 C26  Southampton  NaN    NaN   \n",
       "4      2  113781  151.550003  C22 C26  Southampton  NaN  135.0   \n",
       "5      2  113781  151.550003  C22 C26  Southampton  NaN    NaN   \n",
       "6      0   19952   26.549999      E12  Southampton    3    NaN   \n",
       "7      0   13502   77.958298       D7  Southampton   10    NaN   \n",
       "\n",
       "                         home.dest  \n",
       "1                     St Louis, MO  \n",
       "2  Montreal, PQ / Chesterville, ON  \n",
       "3  Montreal, PQ / Chesterville, ON  \n",
       "4  Montreal, PQ / Chesterville, ON  \n",
       "5  Montreal, PQ / Chesterville, ON  \n",
       "6                     New York, NY  \n",
       "7                       Hudson, NY  "
      ]
     },
     "execution_count": 452,
     "metadata": {},
     "output_type": "execute_result"
    }
   ],
   "source": [
    "df.head(n = 7)"
   ]
  },
  {
   "cell_type": "markdown",
   "metadata": {},
   "source": [
    "The homework specified that we should only use the features \"survived\", \"sex\", \"age\", \"pclass\", and \"sibsp\", so we drop every other feature from the datset. We also perform some data cleaning, converting strings to integers."
   ]
  },
  {
   "cell_type": "code",
   "execution_count": 453,
   "metadata": {
    "collapsed": true
   },
   "outputs": [],
   "source": [
    "df = df.drop(['name','parch','ticket','fare','cabin','embarked','boat','body','home.dest'], axis=1)\n",
    "df = df.dropna()\n",
    "df['pclass'] = df['pclass'].map( {\"1st\": 1, \"2nd\": 2, \"3rd\": 3} ).astype(int)\n",
    "df['sex'] = df['sex'].map( {\"male\": 1, \"female\": 0} ).astype(int)"
   ]
  },
  {
   "cell_type": "code",
   "execution_count": 454,
   "metadata": {},
   "outputs": [
    {
     "data": {
      "text/html": [
       "<div>\n",
       "<style>\n",
       "    .dataframe thead tr:only-child th {\n",
       "        text-align: right;\n",
       "    }\n",
       "\n",
       "    .dataframe thead th {\n",
       "        text-align: left;\n",
       "    }\n",
       "\n",
       "    .dataframe tbody tr th {\n",
       "        vertical-align: top;\n",
       "    }\n",
       "</style>\n",
       "<table border=\"1\" class=\"dataframe\">\n",
       "  <thead>\n",
       "    <tr style=\"text-align: right;\">\n",
       "      <th></th>\n",
       "      <th>pclass</th>\n",
       "      <th>survived</th>\n",
       "      <th>sex</th>\n",
       "      <th>age</th>\n",
       "      <th>sibsp</th>\n",
       "    </tr>\n",
       "  </thead>\n",
       "  <tbody>\n",
       "    <tr>\n",
       "      <th>1</th>\n",
       "      <td>1</td>\n",
       "      <td>1</td>\n",
       "      <td>0</td>\n",
       "      <td>29.0000</td>\n",
       "      <td>0</td>\n",
       "    </tr>\n",
       "    <tr>\n",
       "      <th>2</th>\n",
       "      <td>1</td>\n",
       "      <td>1</td>\n",
       "      <td>1</td>\n",
       "      <td>0.9167</td>\n",
       "      <td>1</td>\n",
       "    </tr>\n",
       "    <tr>\n",
       "      <th>3</th>\n",
       "      <td>1</td>\n",
       "      <td>0</td>\n",
       "      <td>0</td>\n",
       "      <td>2.0000</td>\n",
       "      <td>1</td>\n",
       "    </tr>\n",
       "    <tr>\n",
       "      <th>4</th>\n",
       "      <td>1</td>\n",
       "      <td>0</td>\n",
       "      <td>1</td>\n",
       "      <td>30.0000</td>\n",
       "      <td>1</td>\n",
       "    </tr>\n",
       "    <tr>\n",
       "      <th>5</th>\n",
       "      <td>1</td>\n",
       "      <td>0</td>\n",
       "      <td>0</td>\n",
       "      <td>25.0000</td>\n",
       "      <td>1</td>\n",
       "    </tr>\n",
       "    <tr>\n",
       "      <th>6</th>\n",
       "      <td>1</td>\n",
       "      <td>1</td>\n",
       "      <td>1</td>\n",
       "      <td>48.0000</td>\n",
       "      <td>0</td>\n",
       "    </tr>\n",
       "    <tr>\n",
       "      <th>7</th>\n",
       "      <td>1</td>\n",
       "      <td>1</td>\n",
       "      <td>0</td>\n",
       "      <td>63.0000</td>\n",
       "      <td>1</td>\n",
       "    </tr>\n",
       "  </tbody>\n",
       "</table>\n",
       "</div>"
      ],
      "text/plain": [
       "   pclass  survived  sex      age  sibsp\n",
       "1       1         1    0  29.0000      0\n",
       "2       1         1    1   0.9167      1\n",
       "3       1         0    0   2.0000      1\n",
       "4       1         0    1  30.0000      1\n",
       "5       1         0    0  25.0000      1\n",
       "6       1         1    1  48.0000      0\n",
       "7       1         1    0  63.0000      1"
      ]
     },
     "execution_count": 454,
     "metadata": {},
     "output_type": "execute_result"
    }
   ],
   "source": [
    "df.head(n=7)"
   ]
  },
  {
   "cell_type": "markdown",
   "metadata": {},
   "source": [
    "Now, the data is ready for making a decision tree."
   ]
  },
  {
   "cell_type": "code",
   "execution_count": 455,
   "metadata": {
    "collapsed": true
   },
   "outputs": [],
   "source": [
    "X = df.drop(['survived'], axis=1).values\n",
    "y = df['survived'].values"
   ]
  },
  {
   "cell_type": "markdown",
   "metadata": {},
   "source": [
    "We randomly choose 30% of the examples as testing data, and 70% as training data:"
   ]
  },
  {
   "cell_type": "code",
   "execution_count": 456,
   "metadata": {
    "collapsed": true
   },
   "outputs": [],
   "source": [
    "X_train, X_test, y_train, y_test = cross_validation.train_test_split(X,y,test_size=0.3)"
   ]
  },
  {
   "cell_type": "markdown",
   "metadata": {},
   "source": [
    "## Part 2\n",
    "\n",
    "Next, we fit the decision tree model with no limitations on tree size:"
   ]
  },
  {
   "cell_type": "code",
   "execution_count": 457,
   "metadata": {},
   "outputs": [
    {
     "name": "stdout",
     "output_type": "stream",
     "text": [
      "73.25 % accuracy on test data\n",
      "91.26 % accuracy on training data\n"
     ]
    }
   ],
   "source": [
    "clf_dt = tree.DecisionTreeClassifier(max_depth=None)\n",
    "clf_dt.fit (X_train, y_train)\n",
    "\n",
    "print(round(clf_dt.score (X_test, y_test)*100,2), \"% accuracy on test data\")\n",
    "\n",
    "print(round(clf_dt.score (X_train, y_train)*100,2), \"% accuracy on training data\")"
   ]
  },
  {
   "cell_type": "code",
   "execution_count": 458,
   "metadata": {
    "collapsed": true
   },
   "outputs": [],
   "source": [
    "import collections\n",
    "train_predictions = clf_dt.predict(X_train)\n",
    "test_predictions = clf_dt.predict(X_test)"
   ]
  },
  {
   "cell_type": "code",
   "execution_count": 459,
   "metadata": {},
   "outputs": [
    {
     "data": {
      "text/plain": [
       "'ChrSt.jpg'"
      ]
     },
     "execution_count": 459,
     "metadata": {},
     "output_type": "execute_result"
    }
   ],
   "source": [
    "import graphviz \n",
    "dot_data = tree.export_graphviz(clf_dt, out_file=None,\n",
    "                         feature_names=['pclass', 'sex', 'age', 'sibsp'],  \n",
    "                         class_names=[\"0\", \"1\"],  \n",
    "                         filled=True, rounded=True) \n",
    "graph = graphviz.Source(dot_data, format='jpg') \n",
    "graph.render(\"ChrSt\")"
   ]
  },
  {
   "cell_type": "markdown",
   "metadata": {},
   "source": [
    "![title](ChrSt.jpg)"
   ]
  },
  {
   "cell_type": "code",
   "execution_count": 460,
   "metadata": {
    "scrolled": true
   },
   "outputs": [
    {
     "name": "stdout",
     "output_type": "stream",
     "text": [
      "Corr guess live (train):  242 \tTotal actual live:  297\n",
      "Corr guess dead (train):  426 \tTotal actual dead:  435\n",
      "\n",
      "Corr guess live (test):  78 \tTotal actual live:  130\n",
      "Corr guess dead (test):  152 \tTotal actual live:  184\n",
      "\n",
      "Correctly guessed survivor on training set(%):  81.48\n",
      "Correctly guessed fatality on training set(%):  97.93\n",
      "\n",
      "Correctly guessed survivor on test set(%):  60.0\n",
      "Correctly guessed fatality on test set(%):  82.61\n"
     ]
    }
   ],
   "source": [
    "corr_live_train = 0\n",
    "corr_dead_train =0\n",
    "for i in range(len(train_predictions)):\n",
    "    if train_predictions[i] == 1:\n",
    "        if y_train[i] == train_predictions[i]:\n",
    "            corr_live_train +=1\n",
    "    if train_predictions[i] == 0:\n",
    "        if y_train[i] == train_predictions[i]:\n",
    "            corr_dead_train +=1\n",
    "            \n",
    "corr_live_test = 0\n",
    "corr_dead_test =0\n",
    "for i in range(len(test_predictions)):\n",
    "    if test_predictions[i] == 1:\n",
    "        if y_test[i] == test_predictions[i]:\n",
    "            corr_live_test +=1\n",
    "    if test_predictions[i] == 0:\n",
    "        if y_test[i] == test_predictions[i]:\n",
    "            corr_dead_test +=1\n",
    "print(\"Corr guess live (train): \", corr_live_train, \"\\tTotal actual live: \", collections.Counter(y_train)[1])\n",
    "print(\"Corr guess dead (train): \", corr_dead_train, \"\\tTotal actual dead: \", collections.Counter(y_train)[0])\n",
    "print(\"\\nCorr guess live (test): \", corr_live_test, \"\\tTotal actual live: \", collections.Counter(y_test)[1])\n",
    "print(\"Corr guess dead (test): \", corr_dead_test, \"\\tTotal actual live: \", collections.Counter(y_test)[0])\n",
    "\n",
    "print(\"\\nCorrectly guessed survivor on training set(%): \", round(100 * corr_live_train / collections.Counter(y_train)[1],2))\n",
    "print(\"Correctly guessed fatality on training set(%): \", round(100 * corr_dead_train / collections.Counter(y_train)[0],2))\n",
    "\n",
    "print(\"\\nCorrectly guessed survivor on test set(%): \", round(100 * corr_live_test / collections.Counter(y_test)[1],2))\n",
    "print(\"Correctly guessed fatality on test set(%): \", round(100 * corr_dead_test / collections.Counter(y_test)[0],2))"
   ]
  },
  {
   "cell_type": "markdown",
   "metadata": {},
   "source": [
    "# Step 4:\n",
    "Next, we use cross-validation to determine best parameter to prune the tree"
   ]
  },
  {
   "cell_type": "markdown",
   "metadata": {},
   "source": [
    " "
   ]
  },
  {
   "cell_type": "code",
   "execution_count": 461,
   "metadata": {},
   "outputs": [
    {
     "data": {
      "text/plain": [
       "[<matplotlib.lines.Line2D at 0x1a18876550>]"
      ]
     },
     "execution_count": 461,
     "metadata": {},
     "output_type": "execute_result"
    },
    {
     "data": {
      "image/png": "[encoded data removed]",
      "text/plain": [
       "<matplotlib.figure.Figure at 0x1a188532b0>"
      ]
     },
     "metadata": {},
     "output_type": "display_data"
    }
   ],
   "source": [
    "from sklearn.model_selection import cross_val_predict\n",
    "predicted = cross_val_predict(clf_dt, X, y, cv=10)\n",
    "metrics.accuracy_score(y, predicted)\n",
    "\n",
    "size = []\n",
    "accuracy = []\n",
    "for i in range(1,10):\n",
    "    clf_dt = tree.DecisionTreeClassifier(max_depth=i)\n",
    "    clf_dt.fit (X_train, y_train)\n",
    "    size.append(i)\n",
    "    shuffle_validator = cross_validation.ShuffleSplit(len(X), n_iter=20, test_size=0.2, random_state=0)\n",
    "    accuracies = cross_validation.cross_val_score(clf_dt, X, y, cv=shuffle_validator)\n",
    "    accuracy.append(round(((1-accuracies.mean()) * 1046)))\n",
    "fig,ax = plt.subplots(1)\n",
    "ax.set_xlabel('tree depth')\n",
    "ax.set_ylabel('mismatches')\n",
    "# plot the data\n",
    "ax.plot(size,accuracy)"
   ]
  },
  {
   "cell_type": "markdown",
   "metadata": {},
   "source": [
    "It looks like a tree depth of 4 has the least mismatches."
   ]
  },
  {
   "cell_type": "markdown",
   "metadata": {},
   "source": [
    "# Step 5:\n",
    "Based on the results from cross validation, we prune the tree using max depth = 4"
   ]
  },
  {
   "cell_type": "code",
   "execution_count": 462,
   "metadata": {},
   "outputs": [
    {
     "data": {
      "text/plain": [
       "'ChrSt2.jpg'"
      ]
     },
     "execution_count": 462,
     "metadata": {},
     "output_type": "execute_result"
    }
   ],
   "source": [
    "clf_dt = tree.DecisionTreeClassifier(max_depth=4)\n",
    "clf_dt.fit (X_train, y_train)\n",
    "\n",
    "dot_data = tree.export_graphviz(clf_dt, out_file=None,\n",
    "                         feature_names=['pclass', 'sex', 'age', 'sibsp'],  \n",
    "                         class_names=[\"0\", \"1\"],  \n",
    "                         filled=True, rounded=True) \n",
    "graph = graphviz.Source(dot_data, format='jpg') \n",
    "graph.render(\"ChrSt2\")"
   ]
  },
  {
   "cell_type": "markdown",
   "metadata": {},
   "source": [
    "![title](ChrSt2.jpg)"
   ]
  },
  {
   "cell_type": "code",
   "execution_count": 463,
   "metadata": {},
   "outputs": [
    {
     "name": "stdout",
     "output_type": "stream",
     "text": [
      "78.66 % accuracy on test data\n",
      "82.24 % accuracy on training data\n"
     ]
    }
   ],
   "source": [
    "print(round(clf_dt.score (X_test, y_test)* 100,2), \"% accuracy on test data\")\n",
    "\n",
    "print(round(clf_dt.score (X_train, y_train)*100,2), \"% accuracy on training data\")"
   ]
  },
  {
   "cell_type": "markdown",
   "metadata": {},
   "source": [
    "# Step 6"
   ]
  },
  {
   "cell_type": "code",
   "execution_count": 464,
   "metadata": {},
   "outputs": [
    {
     "name": "stdout",
     "output_type": "stream",
     "text": [
      "Corr guess live (train):  187 \tTotal actual live (train):  297\n",
      "Corr guess dead (train):  415 \tTotal actual dead (train):  435\n",
      "\n",
      "Corr guess live (test):  77 \tTotal actual live (test):  130\n",
      "Corr guess dead (test):  170 \tTotal actual live (test):  184\n",
      "\n",
      "Correctly guessed survivor on training set(%):  62.96\n",
      "Correctly guessed fatality on training set(%):  95.4\n",
      "\n",
      "Correctly guessed survivor on test set(%):  59.23\n",
      "Correctly guessed fatality on test set(%):  92.39\n"
     ]
    }
   ],
   "source": [
    "train_predictions = clf_dt.predict(X_train)\n",
    "test_predictions = clf_dt.predict(X_test)\n",
    "corr_live_train = 0\n",
    "corr_dead_train =0\n",
    "for i in range(len(train_predictions)):\n",
    "    if train_predictions[i] == 1:\n",
    "        if y_train[i] == train_predictions[i]:\n",
    "            corr_live_train +=1\n",
    "    if train_predictions[i] == 0:\n",
    "        if y_train[i] == train_predictions[i]:\n",
    "            corr_dead_train +=1\n",
    "            \n",
    "corr_live_test = 0\n",
    "corr_dead_test =0\n",
    "for i in range(len(test_predictions)):\n",
    "    if test_predictions[i] == 1:\n",
    "        if y_test[i] == test_predictions[i]:\n",
    "            corr_live_test +=1\n",
    "    if test_predictions[i] == 0:\n",
    "        if y_test[i] == test_predictions[i]:\n",
    "            corr_dead_test +=1\n",
    "print(\"Corr guess live (train): \", corr_live_train, \"\\tTotal actual live (train): \", collections.Counter(y_train)[1])\n",
    "print(\"Corr guess dead (train): \", corr_dead_train, \"\\tTotal actual dead (train): \", collections.Counter(y_train)[0])\n",
    "print(\"\\nCorr guess live (test): \", corr_live_test, \"\\tTotal actual live (test): \", collections.Counter(y_test)[1])\n",
    "print(\"Corr guess dead (test): \", corr_dead_test, \"\\tTotal actual live (test): \", collections.Counter(y_test)[0])\n",
    "\n",
    "print(\"\\nCorrectly guessed survivor on training set(%): \", round(100 * corr_live_train / collections.Counter(y_train)[1],2))\n",
    "print(\"Correctly guessed fatality on training set(%): \", round(100 * corr_dead_train / collections.Counter(y_train)[0],2))\n",
    "\n",
    "print(\"\\nCorrectly guessed survivor on test set(%): \", round(100 * corr_live_test / collections.Counter(y_test)[1],2))\n",
    "print(\"Correctly guessed fatality on test set(%): \", round(100 * corr_dead_test / collections.Counter(y_test)[0],2))"
   ]
  },
  {
   "cell_type": "markdown",
   "metadata": {},
   "source": [
    "### Observations:"
   ]
  },
  {
   "cell_type": "markdown",
   "metadata": {},
   "source": [
    "It looks like the pruned tree has worse accuracy (82.24% vs 91.26%) for the training data, but increased  accuracy for the test data (78.66% vs 73.25%). This is in line with our expectations, as the full tree likely overfitted to the training data. The smaller decision tree is not overfitted, and generalizes better to unseen data.\n",
    "\n",
    "We also see that the model is better at predicting whether someone will die than if they will survive. The labels \"sex=male\" and \"pclass=3\" are strong indicators, and they mostly lead to fatalities. The remaining labels are not as strong, and it is therefore harder to correctly predict survival than fatality."
   ]
  }
 ],
 "metadata": {
  "kernelspec": {
   "display_name": "Python 3",
   "language": "python",
   "name": "python3"
  },
  "language_info": {
   "codemirror_mode": {
    "name": "ipython",
    "version": 3
   },
   "file_extension": ".py",
   "mimetype": "text/x-python",
   "name": "python",
   "nbconvert_exporter": "python",
   "pygments_lexer": "ipython3",
   "version": "3.6.3"
  }
 },
 "nbformat": 4,
 "nbformat_minor": 2
}
