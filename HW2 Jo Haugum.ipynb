{
 "cells": [
  {
   "cell_type": "markdown",
   "metadata": {},
   "source": [
    "# CPE 695 Homework 2 Programming problem\n",
    "# Part 1"
   ]
  },
  {
   "cell_type": "markdown",
   "metadata": {},
   "source": [
    "We begin with the dataset from lecture slide 15:"
   ]
  },
  {
   "cell_type": "code",
   "execution_count": 7,
   "metadata": {},
   "outputs": [
    {
     "name": "stdout",
     "output_type": "stream",
     "text": [
      "Dataset: \n",
      "\n",
      "['Sunny', 'Warm', 'Normal', 'Strong', 'Warm', 'Same', 'Yes']\n",
      "['Sunny', 'Warm', 'High', 'Strong', 'Warm', 'Same', 'Yes']\n",
      "['Rainy', 'Cold', 'High', 'Strong', 'Warm', 'Change', 'No']\n",
      "['Sunny', 'Warm', 'High', 'Strong', 'Cool', 'Change', 'Yes']\n"
     ]
    }
   ],
   "source": [
    "dataset = [[\"Sunny\", \"Warm\", \"Normal\", \"Strong\", \"Warm\", \"Same\", \"Yes\"],\\\n",
    "           [\"Sunny\", \"Warm\", \"High\", \"Strong\", \"Warm\", \"Same\", \"Yes\"],\\\n",
    "           [\"Rainy\", \"Cold\", \"High\", \"Strong\", \"Warm\", \"Change\", \"No\"],\\\n",
    "           [\"Sunny\", \"Warm\", \"High\", \"Strong\", \"Cool\", \"Change\", \"Yes\"]]\n",
    "print(\"Dataset: \\n\")\n",
    "for i in dataset:\n",
    "    print(i)"
   ]
  },
  {
   "cell_type": "markdown",
   "metadata": {},
   "source": [
    "We define an algorithm that updates the hypothesis based on whether it correctly classifies the sample it is fed, and returns the new improved hypothesis:"
   ]
  },
  {
   "cell_type": "code",
   "execution_count": 8,
   "metadata": {
    "collapsed": true
   },
   "outputs": [],
   "source": [
    "def update_hypothesis(sample, hypothesis):\n",
    "    evaluation = \"\"\n",
    "    for i in range(0, len(sample) - 1):\n",
    "        if (sample[i] == hypothesis[i] or hypothesis[i] == \"?\"):\n",
    "            continue\n",
    "        else:\n",
    "            evaluation = \"Negative\"\n",
    "            break\n",
    "        evaluation = \"Positive\"\n",
    "        \n",
    "    if evaluation == \"Negative\" and sample[6] == \"Yes\":\n",
    "        for i in range(0, len(sample) - 1):\n",
    "            if hypothesis[i] == 'Ø':\n",
    "                hypothesis[i] = sample[i]\n",
    "            elif hypothesis[i] != 'Ø' and hypothesis[i] != sample[i]:\n",
    "                hypothesis[i] = '?'\n",
    "    return hypothesis"
   ]
  },
  {
   "cell_type": "markdown",
   "metadata": {},
   "source": [
    "Let us run this algorithm with the dataset from above:"
   ]
  },
  {
   "cell_type": "code",
   "execution_count": 9,
   "metadata": {},
   "outputs": [
    {
     "name": "stdout",
     "output_type": "stream",
     "text": [
      "['Ø', 'Ø', 'Ø', 'Ø', 'Ø', 'Ø']\n",
      "['Sunny', 'Warm', 'Normal', 'Strong', 'Warm', 'Same']\n",
      "['Sunny', 'Warm', '?', 'Strong', 'Warm', 'Same']\n",
      "['Sunny', 'Warm', '?', 'Strong', 'Warm', 'Same']\n",
      "['Sunny', 'Warm', '?', 'Strong', '?', '?']\n"
     ]
    }
   ],
   "source": [
    "hypothesis = [\"Ø\",\"Ø\",\"Ø\",\"Ø\",\"Ø\",\"Ø\"]\n",
    "print(hypothesis)\n",
    "\n",
    "for i in dataset:\n",
    "    hypothesis = update_hypothesis(i, hypothesis)\n",
    "    print(hypothesis)"
   ]
  },
  {
   "cell_type": "markdown",
   "metadata": {},
   "source": [
    "We see that the algorithm correctly produces the same trace as lecture slide 15."
   ]
  },
  {
   "cell_type": "markdown",
   "metadata": {},
   "source": [
    "# Part 2"
   ]
  },
  {
   "cell_type": "markdown",
   "metadata": {},
   "source": [
    "Let us now define an algorithm that generates random examples, \n",
    "and classifies them based on the target concept\n",
    "\n",
    "    [\"Sunny\", \"Warm\",\"?\",\"?\",\"?\",\"?\"]"
   ]
  },
  {
   "cell_type": "code",
   "execution_count": 10,
   "metadata": {
    "collapsed": true
   },
   "outputs": [],
   "source": [
    "from random import randint as ri #randint takes two parameters a and b\n",
    "def gen_example(n):\n",
    "    dataset = []\n",
    "    sky = [\"Sunny\", \"Cloudy\", \"Rainy\"]\n",
    "    airtemp = [\"Warm\", \"Cold\"]\n",
    "    humidity = [\"Normal\", \"High\"]\n",
    "    wind = [\"Strong\", \"Weak\"]\n",
    "    water = [\"Warm\", \"Cool\"]\n",
    "    forecast = [\"Same\", \"Change\"]\n",
    "    \n",
    "    for i in range(n):\n",
    "        # Generate a new sample\n",
    "        dataset.append([sky[ri(0,2)], airtemp[ri(0,1)], humidity[ri(0,1)], wind[ri(0,1)], water[ri(0,1)], forecast[ri(0,1)]])\n",
    "        \n",
    "        # Classify the generated sample\n",
    "        if dataset[i][0] == \"Sunny\" and dataset[i][1] == \"Warm\":\n",
    "            dataset[i].append(\"Yes\")\n",
    "        else:\n",
    "            dataset[i].append(\"No\")\n",
    "            \n",
    "    return dataset"
   ]
  },
  {
   "cell_type": "markdown",
   "metadata": {},
   "source": [
    "We will now perform an experiment where we generate random samples, then see how many samples it takes for the maximally specific hypothesis to eventually match the target concept. We will repeat this experiment many times, logging the result for each experiment."
   ]
  },
  {
   "cell_type": "code",
   "execution_count": 52,
   "metadata": {},
   "outputs": [],
   "source": [
    "def experiment():\n",
    "    rand_examples = gen_example(200)\n",
    "    experiment_hypothesis = [\"Ø\",\"Ø\",\"Ø\",\"Ø\",\"Ø\",\"Ø\"]\n",
    "    target = [\"Sunny\", \"Warm\",\"?\",\"?\",\"?\",\"?\"]\n",
    "    count = 0\n",
    "    for i in rand_examples:\n",
    "        if (experiment_hypothesis != target):\n",
    "            experiment_hypothesis = update_hypothesis(i, experiment_hypothesis)\n",
    "            count += 1\n",
    "    return count\n",
    "\n",
    "experiment_results = []\n",
    "for i in range(200):\n",
    "    experiment_results.append(experiment())"
   ]
  },
  {
   "cell_type": "markdown",
   "metadata": {
    "collapsed": true
   },
   "source": [
    "Finally we want to see the mean number of examples required for the model to succesfully produce the target concept:"
   ]
  },
  {
   "cell_type": "code",
   "execution_count": 53,
   "metadata": {},
   "outputs": [
    {
     "data": {
      "text/plain": [
       "25.88"
      ]
     },
     "execution_count": 53,
     "metadata": {},
     "output_type": "execute_result"
    }
   ],
   "source": [
    "mean = sum(experiment_results) / len(experiment_results)\n",
    "mean"
   ]
  },
  {
   "cell_type": "markdown",
   "metadata": {},
   "source": [
    "**This concludes the programming portion of homework 2.**"
   ]
  },
  {
   "cell_type": "code",
   "execution_count": null,
   "metadata": {
    "collapsed": true
   },
   "outputs": [],
   "source": []
  }
 ],
 "metadata": {
  "kernelspec": {
   "display_name": "Python 3",
   "language": "python",
   "name": "python3"
  },
  "language_info": {
   "codemirror_mode": {
    "name": "ipython",
    "version": 3
   },
   "file_extension": ".py",
   "mimetype": "text/x-python",
   "name": "python",
   "nbconvert_exporter": "python",
   "pygments_lexer": "ipython3",
   "version": "3.6.3"
  }
 },
 "nbformat": 4,
 "nbformat_minor": 2
}
